{
 "cells": [
  {
   "cell_type": "code",
   "execution_count": null,
   "metadata": {},
   "outputs": [],
   "source": [
    "from model_functions import classify_fits\n",
    "import tensorflow as tf\n",
    "from tensorflow.python.client import device_lib\n",
    "import os.path\n",
    "import pickle"
   ]
  },
  {
   "cell_type": "code",
   "execution_count": null,
   "metadata": {},
   "outputs": [],
   "source": [
    "# Paths of .fits images\n",
    "snle_image_paths = ['test.fits']\n",
    "snle_names = ['test']"
   ]
  },
  {
   "cell_type": "code",
   "execution_count": null,
   "metadata": {
    "scrolled": false
   },
   "outputs": [],
   "source": [
    "# Start where you left off\n",
    "if os.path.isfile('start.pickle'):\n",
    "    start_unpickle = open('start.pickle', 'rb')\n",
    "    start = pickle.load(start_unpickle)\n",
    "else:\n",
    "    start = 0\n",
    "\n",
    "classify_fits(snle_image_paths=snle_image_paths, snle_names=snle_names, start=start)"
   ]
  }
 ],
 "metadata": {
  "kernelspec": {
   "display_name": "Python 3 (ipykernel)",
   "language": "python",
   "name": "python3"
  },
  "language_info": {
   "codemirror_mode": {
    "name": "ipython",
    "version": 3
   },
   "file_extension": ".py",
   "mimetype": "text/x-python",
   "name": "python",
   "nbconvert_exporter": "python",
   "pygments_lexer": "ipython3",
   "version": "3.7.9"
  }
 },
 "nbformat": 4,
 "nbformat_minor": 2
}
